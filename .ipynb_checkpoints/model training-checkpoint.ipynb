{
 "cells": [
  {
   "cell_type": "code",
   "execution_count": 6,
   "metadata": {},
   "outputs": [],
   "source": [
    "import os, shutil\n",
    "original_dataset_dir = './Data'"
   ]
  },
  {
   "cell_type": "code",
   "execution_count": 7,
   "metadata": {},
   "outputs": [],
   "source": [
    "base_dir = './WD'\n",
    "#os.mkdir(base_dir)\n",
    "train_dir = os.path.join(base_dir, 'train')\n",
    "#os.mkdir(train_dir)\n",
    "validation_dir = os.path.join(base_dir, 'validation')\n",
    "#os.mkdir(validation_dir)\n",
    "test_dir = os.path.join(base_dir, 'test')\n",
    "#os.mkdir(test_dir)"
   ]
  },
  {
   "cell_type": "code",
   "execution_count": null,
   "metadata": {},
   "outputs": [],
   "source": [
    "train_amblance_dir = os.path.join(train_dir, 'amblance')\n",
    "os.mkdir(train_amblance_dir)"
   ]
  },
  {
   "cell_type": "code",
   "execution_count": null,
   "metadata": {},
   "outputs": [],
   "source": [
    "train_fire_truck_dir = os.path.join(train_dir, 'fire_truck')\n",
    "os.mkdir(train_fire_truck_dir)"
   ]
  },
  {
   "cell_type": "code",
   "execution_count": null,
   "metadata": {},
   "outputs": [],
   "source": [
    "train_Police_dir = os.path.join(train_dir, 'Police')\n",
    "os.mkdir(train_Police_dir)"
   ]
  },
  {
   "cell_type": "code",
   "execution_count": null,
   "metadata": {},
   "outputs": [],
   "source": []
  },
  {
   "cell_type": "code",
   "execution_count": null,
   "metadata": {},
   "outputs": [],
   "source": [
    "validation_amblance_dir = os.path.join(validation_dir, 'amblance')\n",
    "os.mkdir(validation_amblance_dir)"
   ]
  },
  {
   "cell_type": "code",
   "execution_count": null,
   "metadata": {},
   "outputs": [],
   "source": [
    "validation_fire_truck_dir = os.path.join(validation_dir, 'fire_truck')\n",
    "os.mkdir(validation_fire_truck_dir)"
   ]
  },
  {
   "cell_type": "code",
   "execution_count": null,
   "metadata": {},
   "outputs": [],
   "source": [
    "validation_Police_dir = os.path.join(validation_dir, 'Police')\n",
    "os.mkdir(validation_Police_dir)"
   ]
  },
  {
   "cell_type": "code",
   "execution_count": null,
   "metadata": {},
   "outputs": [],
   "source": []
  },
  {
   "cell_type": "code",
   "execution_count": null,
   "metadata": {},
   "outputs": [],
   "source": [
    "test_amblance_dir = os.path.join(test_dir, 'amblance')\n",
    "os.mkdir(test_amblance_dir)"
   ]
  },
  {
   "cell_type": "code",
   "execution_count": null,
   "metadata": {},
   "outputs": [],
   "source": [
    "test_fire_truck_dir = os.path.join(test_dir, 'fire_truck')\n",
    "os.mkdir(test_fire_truck_dir)"
   ]
  },
  {
   "cell_type": "code",
   "execution_count": null,
   "metadata": {},
   "outputs": [],
   "source": [
    "test_Police_dir = os.path.join(test_dir, 'Police')\n",
    "os.mkdir(test_Police_dir)"
   ]
  },
  {
   "cell_type": "code",
   "execution_count": null,
   "metadata": {},
   "outputs": [],
   "source": []
  },
  {
   "cell_type": "code",
   "execution_count": null,
   "metadata": {},
   "outputs": [],
   "source": [
    "fnames = ['Ambulance_  ({}).jpg'.format(i) for i in range(194)]\n",
    "for fname in fnames:\n",
    "    src = os.path.join(original_dataset_dir, fname)\n",
    "    print(src)\n",
    "    dst = os.path.join(train_amblance_dir, fname)\n",
    "    print(dst)\n",
    "    shutil.copyfile(src, dst)"
   ]
  },
  {
   "cell_type": "code",
   "execution_count": null,
   "metadata": {},
   "outputs": [],
   "source": [
    "fnames = ['Ambulance_  ({}).jpg'.format(i) for i in range(194, 194+24)]\n",
    "for fname in fnames:\n",
    "    src = os.path.join(original_dataset_dir, fname)\n",
    "    dst = os.path.join(validation_amblance_dir, fname)\n",
    "    shutil.copyfile(src, dst)"
   ]
  },
  {
   "cell_type": "code",
   "execution_count": null,
   "metadata": {},
   "outputs": [],
   "source": [
    "fnames = ['Ambulance_  ({}).jpg'.format(i) for i in range(194+24, 194+50)]\n",
    "for fname in fnames:\n",
    "    src = os.path.join(original_dataset_dir, fname)\n",
    "    dst = os.path.join(test_amblance_dir, fname)\n",
    "    shutil.copyfile(src, dst)"
   ]
  },
  {
   "cell_type": "code",
   "execution_count": null,
   "metadata": {},
   "outputs": [],
   "source": []
  },
  {
   "cell_type": "code",
   "execution_count": null,
   "metadata": {},
   "outputs": [],
   "source": [
    "fnames = ['Fire_Truck_ ({}).jpg'.format(i) for i in range(164)]\n",
    "for fname in fnames:\n",
    "    src = os.path.join(original_dataset_dir, fname)\n",
    "    dst = os.path.join(train_fire_truck_dir, fname)\n",
    "    shutil.copyfile(src, dst)"
   ]
  },
  {
   "cell_type": "code",
   "execution_count": null,
   "metadata": {},
   "outputs": [],
   "source": [
    "fnames = ['Fire_Truck_ ({}).jpg'.format(i) for i in range(164, 164+20)]\n",
    "for fname in fnames:\n",
    "    src = os.path.join(original_dataset_dir, fname)\n",
    "    dst = os.path.join(validation_fire_truck_dir, fname)\n",
    "    shutil.copyfile(src, dst)"
   ]
  },
  {
   "cell_type": "code",
   "execution_count": null,
   "metadata": {},
   "outputs": [],
   "source": [
    "fnames = ['Fire_Truck_ ({}).jpg'.format(i) for i in range(164+20, 164+40)]\n",
    "for fname in fnames:\n",
    "    src = os.path.join(original_dataset_dir, fname)\n",
    "    dst = os.path.join(test_fire_truck_dir, fname)\n",
    "    shutil.copyfile(src, dst)"
   ]
  },
  {
   "cell_type": "code",
   "execution_count": null,
   "metadata": {},
   "outputs": [],
   "source": []
  },
  {
   "cell_type": "code",
   "execution_count": null,
   "metadata": {},
   "outputs": [],
   "source": [
    "fnames = ['Police_ ({}).jpg'.format(i) for i in range(171)]\n",
    "for fname in fnames:\n",
    "    src = os.path.join(original_dataset_dir, fname)\n",
    "    dst = os.path.join(train_Police_dir, fname)\n",
    "    shutil.copyfile(src, dst)"
   ]
  },
  {
   "cell_type": "code",
   "execution_count": null,
   "metadata": {},
   "outputs": [],
   "source": [
    "fnames = ['Police_ ({}).jpg'.format(i) for i in range(171, 171+21)]\n",
    "for fname in fnames:\n",
    "    src = os.path.join(original_dataset_dir, fname)\n",
    "    dst = os.path.join(validation_Police_dir, fname)\n",
    "    shutil.copyfile(src, dst)"
   ]
  },
  {
   "cell_type": "code",
   "execution_count": null,
   "metadata": {},
   "outputs": [],
   "source": [
    "fnames = ['Police_ ({}).jpg'.format(i) for i in range(171+21, 171+42)]\n",
    "for fname in fnames:\n",
    "    src = os.path.join(original_dataset_dir, fname)\n",
    "    dst = os.path.join(test_Police_dir, fname)\n",
    "    shutil.copyfile(src, dst)"
   ]
  },
  {
   "cell_type": "code",
   "execution_count": null,
   "metadata": {},
   "outputs": [],
   "source": []
  },
  {
   "cell_type": "code",
   "execution_count": 1,
   "metadata": {},
   "outputs": [
    {
     "name": "stderr",
     "output_type": "stream",
     "text": [
      "Using TensorFlow backend.\n"
     ]
    }
   ],
   "source": [
    "from keras import layers\n",
    "from keras import models\n",
    "model = models.Sequential()\n",
    "model.add(layers.Conv2D(32, (3, 3), activation='relu',\n",
    "input_shape=(150, 150, 3)))\n",
    "\n",
    "model.add(layers.MaxPooling2D((3, 3)))\n",
    "model.add(layers.Conv2D(64, (3, 3), activation='relu'))\n",
    "\n",
    "model.add(layers.MaxPooling2D((3, 3)))\n",
    "model.add(layers.Conv2D(128, (3, 3), activation='relu'))\n",
    "\n",
    "model.add(layers.MaxPooling2D((3, 3)))\n",
    "model.add(layers.Conv2D(128, (3, 3), activation='relu'))\n",
    "\n",
    "model.add(layers.MaxPooling2D((2, 2)))\n",
    "model.add(layers.Flatten())\n",
    "\n",
    "model.add(layers.Dense(512, activation='relu'))\n",
    "model.add(layers.Dense(3, activation='sigmoid'))"
   ]
  },
  {
   "cell_type": "code",
   "execution_count": 2,
   "metadata": {},
   "outputs": [],
   "source": [
    "from keras import optimizers\n",
    "model.compile(loss='categorical_crossentropy',\n",
    "optimizer=optimizers.RMSprop(lr=1e-2),\n",
    "metrics=['acc'])"
   ]
  },
  {
   "cell_type": "code",
   "execution_count": 3,
   "metadata": {},
   "outputs": [],
   "source": [
    "from keras.preprocessing.image import ImageDataGenerator\n",
    "train_datagen = ImageDataGenerator(rescale=1./255)\n",
    "test_datagen = ImageDataGenerator(rescale=1./255)"
   ]
  },
  {
   "cell_type": "code",
   "execution_count": 9,
   "metadata": {},
   "outputs": [
    {
     "name": "stdout",
     "output_type": "stream",
     "text": [
      "Found 529 images belonging to 3 classes.\n"
     ]
    }
   ],
   "source": [
    "train_generator = train_datagen.flow_from_directory(\n",
    "train_dir,\n",
    "target_size=(150, 150),\n",
    "batch_size=20,\n",
    "class_mode='categorical')"
   ]
  },
  {
   "cell_type": "code",
   "execution_count": 10,
   "metadata": {},
   "outputs": [
    {
     "name": "stdout",
     "output_type": "stream",
     "text": [
      "Found 65 images belonging to 3 classes.\n"
     ]
    }
   ],
   "source": [
    "validation_generator = test_datagen.flow_from_directory(\n",
    "validation_dir,target_size=(150, 150),\n",
    "batch_size=50,\n",
    "class_mode='categorical')"
   ]
  },
  {
   "cell_type": "code",
   "execution_count": 11,
   "metadata": {
    "scrolled": true
   },
   "outputs": [
    {
     "name": "stdout",
     "output_type": "stream",
     "text": [
      "Epoch 1/20\n",
      "10/10 [==============================] - 106s 11s/step - loss: 5.1857 - acc: 0.3598 - val_loss: 4.8065 - val_acc: 0.3231\n",
      "Epoch 2/20\n",
      "10/10 [==============================] - 25s 3s/step - loss: 5.5520 - acc: 0.3000 - val_loss: 6.8631 - val_acc: 0.3231\n",
      "Epoch 3/20\n",
      "10/10 [==============================] - 43s 4s/step - loss: 5.5520 - acc: 0.3350 - val_loss: 4.8065 - val_acc: 0.3231\n",
      "Epoch 4/20\n",
      "10/10 [==============================] - 44s 4s/step - loss: 6.0674 - acc: 0.3439 - val_loss: 5.8348 - val_acc: 0.3231\n",
      "Epoch 5/20\n",
      "10/10 [==============================] - 59s 6s/step - loss: 5.0121 - acc: 0.3000 - val_loss: 6.8631 - val_acc: 0.3231\n",
      "Epoch 6/20\n",
      "10/10 [==============================] - 42s 4s/step - loss: 5.6291 - acc: 0.3350 - val_loss: 1.7215 - val_acc: 0.3231\n",
      "Epoch 7/20\n",
      "10/10 [==============================] - 19s 2s/step - loss: 5.6185 - acc: 0.3439 - val_loss: 5.8348 - val_acc: 0.3231\n",
      "Epoch 8/20\n",
      "10/10 [==============================] - 21s 2s/step - loss: 5.2435 - acc: 0.2850 - val_loss: 4.8065 - val_acc: 0.3231\n",
      "Epoch 9/20\n",
      "10/10 [==============================] - 82s 8s/step - loss: 4.7036 - acc: 0.3750 - val_loss: 4.8065 - val_acc: 0.3231\n",
      "Epoch 10/20\n",
      "10/10 [==============================] - 21s 2s/step - loss: 5.8605 - acc: 0.3000 - val_loss: 6.8631 - val_acc: 0.3231\n",
      "Epoch 11/20\n",
      "10/10 [==============================] - 22s 2s/step - loss: 5.9287 - acc: 0.3069 - val_loss: 4.8065 - val_acc: 0.3231\n",
      "Epoch 12/20\n",
      "10/10 [==============================] - 20s 2s/step - loss: 5.3614 - acc: 0.3228 - val_loss: 5.8348 - val_acc: 0.3231\n",
      "Epoch 13/20\n",
      "10/10 [==============================] - 22s 2s/step - loss: 5.6291 - acc: 0.3350 - val_loss: 6.8631 - val_acc: 0.3231\n",
      "Epoch 14/20\n",
      "10/10 [==============================] - 26s 3s/step - loss: 5.6291 - acc: 0.3250 - val_loss: 4.8065 - val_acc: 0.3231\n",
      "Epoch 15/20\n",
      "10/10 [==============================] - 24s 2s/step - loss: 5.2435 - acc: 0.3050 - val_loss: 4.8065 - val_acc: 0.3231\n",
      "Epoch 16/20\n",
      "10/10 [==============================] - 33s 3s/step - loss: 5.6879 - acc: 0.3069 - val_loss: 6.8631 - val_acc: 0.3231\n",
      "Epoch 17/20\n",
      "10/10 [==============================] - 31s 3s/step - loss: 5.4308 - acc: 0.3704 - val_loss: 6.8631 - val_acc: 0.3231\n",
      "Epoch 18/20\n",
      "10/10 [==============================] - 26s 3s/step - loss: 5.8605 - acc: 0.2850 - val_loss: 3.7781 - val_acc: 0.3231\n",
      "Epoch 19/20\n",
      "10/10 [==============================] - 29s 3s/step - loss: 5.0893 - acc: 0.3350 - val_loss: 3.7781 - val_acc: 0.3231\n",
      "Epoch 20/20\n",
      "10/10 [==============================] - 39s 4s/step - loss: 5.1288 - acc: 0.3386 - val_loss: 5.8348 - val_acc: 0.3231\n"
     ]
    }
   ],
   "source": [
    "history = model.fit_generator(\n",
    "train_generator,\n",
    "steps_per_epoch=10,\n",
    "epochs=20,\n",
    "validation_data=validation_generator,\n",
    "validation_steps=50)"
   ]
  },
  {
   "cell_type": "code",
   "execution_count": 12,
   "metadata": {},
   "outputs": [
    {
     "data": {
      "image/png": "[encoded data removed]",
      "text/plain": [
       "<Figure size 432x288 with 1 Axes>"
      ]
     },
     "metadata": {
      "needs_background": "light"
     },
     "output_type": "display_data"
    },
    {
     "data": {
      "image/png": "[encoded data removed]",
      "text/plain": [
       "<Figure size 432x288 with 1 Axes>"
      ]
     },
     "metadata": {
      "needs_background": "light"
     },
     "output_type": "display_data"
    }
   ],
   "source": [
    "%matplotlib inline\n",
    "import matplotlib.pyplot as plt\n",
    "acc = history.history['acc']\n",
    "val_acc = history.history['val_acc']\n",
    "loss = history.history['loss']\n",
    "val_loss = history.history['val_loss']\n",
    "epochs = range(1, len(acc) + 1)\n",
    "plt.plot(epochs, acc, 'bo', label='Training acc')\n",
    "plt.plot(epochs, val_acc, 'b', label='Validation acc')\n",
    "plt.title('Training and validation accuracy')\n",
    "plt.legend()\n",
    "plt.figure()\n",
    "plt.plot(epochs, loss, 'bo', label='Training loss')\n",
    "plt.plot(epochs, val_loss, 'b', label='Validation loss')\n",
    "plt.title('Training and validation loss')\n",
    "plt.legend()\n",
    "plt.show()"
   ]
  },
  {
   "cell_type": "code",
   "execution_count": 13,
   "metadata": {},
   "outputs": [
    {
     "name": "stdout",
     "output_type": "stream",
     "text": [
      "Found 529 images belonging to 3 classes.\n",
      "Found 65 images belonging to 3 classes.\n",
      "Epoch 1/5\n",
      "50/50 [==============================] - 43s 864ms/step - loss: 0.9317 - acc: 0.5409 - val_loss: 0.5549 - val_acc: 0.8615\n",
      "Epoch 2/5\n",
      "50/50 [==============================] - 45s 895ms/step - loss: 0.5701 - acc: 0.7689 - val_loss: 0.5383 - val_acc: 0.8462\n",
      "Epoch 3/5\n",
      "50/50 [==============================] - 48s 956ms/step - loss: 0.4744 - acc: 0.8262 - val_loss: 0.6692 - val_acc: 0.7846\n",
      "Epoch 4/5\n",
      "50/50 [==============================] - 52s 1s/step - loss: 0.4086 - acc: 0.8564 - val_loss: 0.6275 - val_acc: 0.8000\n",
      "Epoch 5/5\n",
      "50/50 [==============================] - 40s 796ms/step - loss: 0.3240 - acc: 0.8804 - val_loss: 0.0498 - val_acc: 0.9231\n"
     ]
    }
   ],
   "source": [
    "from keras import layers\n",
    "from keras import models\n",
    "model2 = models.Sequential()\n",
    "model2.add(layers.Conv2D(32, (3, 3), activation='relu',\n",
    "input_shape=(150, 150, 3)))\n",
    "\n",
    "model2.add(layers.MaxPooling2D((3, 3)))\n",
    "model2.add(layers.Conv2D(64, (3, 3), activation='relu'))\n",
    "\n",
    "model2.add(layers.MaxPooling2D((3, 3)))\n",
    "model2.add(layers.Conv2D(128, (3, 3), activation='relu'))\n",
    "\n",
    "model2.add(layers.MaxPooling2D((3, 3)))\n",
    "model2.add(layers.Conv2D(128, (3, 3), activation='relu'))\n",
    "\n",
    "model2.add(layers.MaxPooling2D((2, 2)))\n",
    "model2.add(layers.Flatten())\n",
    "\n",
    "model2.add(layers.Dense(512, activation='relu'))\n",
    "model2.add(layers.Dense(3, activation='sigmoid'))\n",
    "\n",
    "from keras import optimizers\n",
    "model2.compile(loss='categorical_crossentropy',\n",
    "optimizer=optimizers.RMSprop(lr=1e-3),\n",
    "metrics=['acc'])\n",
    "\n",
    "from keras.preprocessing.image import ImageDataGenerator\n",
    "train_datagen = ImageDataGenerator(rescale=1./255)\n",
    "test_datagen = ImageDataGenerator(rescale=1./255)\n",
    "\n",
    "train_generator = train_datagen.flow_from_directory(\n",
    "train_dir,\n",
    "target_size=(150, 150),\n",
    "batch_size=20,\n",
    "class_mode='categorical')\n",
    "\n",
    "validation_generator = test_datagen.flow_from_directory(\n",
    "validation_dir,target_size=(150, 150),\n",
    "batch_size=50,\n",
    "class_mode='categorical')\n",
    "\n",
    "history = model2.fit_generator(\n",
    "train_generator,\n",
    "steps_per_epoch=50,\n",
    "epochs=5,\n",
    "validation_data=validation_generator,\n",
    "validation_steps=50)"
   ]
  },
  {
   "cell_type": "code",
   "execution_count": 14,
   "metadata": {},
   "outputs": [
    {
     "data": {
      "image/png": "[encoded data removed]",
      "text/plain": [
       "<Figure size 432x288 with 1 Axes>"
      ]
     },
     "metadata": {
      "needs_background": "light"
     },
     "output_type": "display_data"
    },
    {
     "data": {
      "image/png": "[encoded data removed]",
      "text/plain": [
       "<Figure size 432x288 with 1 Axes>"
      ]
     },
     "metadata": {
      "needs_background": "light"
     },
     "output_type": "display_data"
    }
   ],
   "source": [
    "%matplotlib inline\n",
    "import matplotlib.pyplot as plt\n",
    "acc = history.history['acc']\n",
    "val_acc = history.history['val_acc']\n",
    "loss = history.history['loss']\n",
    "val_loss = history.history['val_loss']\n",
    "epochs = range(1, len(acc) + 1)\n",
    "plt.plot(epochs, acc, 'bo', label='Training acc')\n",
    "plt.plot(epochs, val_acc, 'b', label='Validation acc')\n",
    "plt.title('Training and validation accuracy')\n",
    "plt.legend()\n",
    "plt.figure()\n",
    "plt.plot(epochs, loss, 'bo', label='Training loss')\n",
    "plt.plot(epochs, val_loss, 'b', label='Validation loss')\n",
    "plt.title('Training and validation loss')\n",
    "plt.legend()\n",
    "plt.show()"
   ]
  },
  {
   "cell_type": "code",
   "execution_count": 26,
   "metadata": {},
   "outputs": [],
   "source": [
    "model2.save('model.hdf5')"
   ]
  },
  {
   "cell_type": "code",
   "execution_count": 27,
   "metadata": {},
   "outputs": [],
   "source": [
    "model2.save('model.h5')"
   ]
  },
  {
   "cell_type": "code",
   "execution_count": 28,
   "metadata": {},
   "outputs": [],
   "source": [
    "with open('model_architecture.json', 'w') as f:\n",
    "    f.write(model.to_json())"
   ]
  },
  {
   "cell_type": "code",
   "execution_count": 30,
   "metadata": {},
   "outputs": [
    {
     "name": "stdout",
     "output_type": "stream",
     "text": [
      "[1]\n"
     ]
    }
   ],
   "source": [
    "from keras.models import load_model\n",
    "import cv2\n",
    "import numpy as np\n",
    "\n",
    "model = load_model('model.h5')\n",
    "\n",
    "model.compile(loss='categorical_crossentropy',\n",
    "              optimizer='rmsprop',\n",
    "              metrics=['accuracy'])\n",
    "\n",
    "img = cv2.imread('./Data/Ambulance_  (0).jpg')\n",
    "img = cv2.resize(img,(150,150))\n",
    "img = np.reshape(img,[1,150,150,3])\n",
    "\n",
    "classes = model.predict_classes(img)\n",
    "\n",
    "print(classes)"
   ]
  },
  {
   "cell_type": "code",
   "execution_count": 31,
   "metadata": {},
   "outputs": [
    {
     "name": "stdout",
     "output_type": "stream",
     "text": [
      "[2]\n"
     ]
    }
   ],
   "source": [
    "from keras.models import load_model\n",
    "import cv2\n",
    "import numpy as np\n",
    "\n",
    "model = load_model('model.h5')\n",
    "\n",
    "model.compile(loss='categorical_crossentropy',\n",
    "              optimizer='rmsprop',\n",
    "              metrics=['accuracy'])\n",
    "\n",
    "img = cv2.imread('./Data/Police_ (17).jpg')\n",
    "img = cv2.resize(img,(150,150))\n",
    "img = np.reshape(img,[1,150,150,3])\n",
    "\n",
    "classes = model.predict_classes(img)\n",
    "\n",
    "print(classes)"
   ]
  },
  {
   "cell_type": "code",
   "execution_count": 32,
   "metadata": {},
   "outputs": [
    {
     "name": "stdout",
     "output_type": "stream",
     "text": [
      "[0]\n"
     ]
    }
   ],
   "source": [
    "from keras.models import load_model\n",
    "import cv2\n",
    "import numpy as np\n",
    "\n",
    "model = load_model('model.h5')\n",
    "\n",
    "model.compile(loss='categorical_crossentropy',\n",
    "              optimizer='rmsprop',\n",
    "              metrics=['accuracy'])\n",
    "\n",
    "img = cv2.imread('./Data/Fire_Truck_ (47).jpg')\n",
    "img = cv2.resize(img,(150,150))\n",
    "img = np.reshape(img,[1,150,150,3])\n",
    "\n",
    "classes = model.predict_classes(img)\n",
    "\n",
    "print(classes)"
   ]
  },
  {
   "cell_type": "code",
   "execution_count": 6,
   "metadata": {},
   "outputs": [
    {
     "name": "stdout",
     "output_type": "stream",
     "text": [
      "WARNING:tensorflow:No training configuration found in save file: the model was *not* compiled. Compile it manually.\n"
     ]
    }
   ],
   "source": [
    "import cv2\n",
    "import numpy as np\n",
    "from PIL import Image\n",
    "import tensorflow.keras\n",
    "#Load the saved model\n",
    "model = tensorflow.keras.models.load_model('./models/keras_model.h5')\n",
    "video = cv2.VideoCapture(0)\n",
    "labels = [\"police\",\"fire truck\",\"ambulance\",\"None\"]\n",
    "data = np.ndarray(shape=(1, 224, 224, 3), dtype=np.float32)\n",
    "while True:\n",
    "        _, frame = video.read()\n",
    "\n",
    "        #Convert the captured frame into RGB\n",
    "        im = Image.fromarray(frame, 'RGB')\n",
    "\n",
    "        #Resizing into 128x128 because we trained the model with this image size.\n",
    "        im = im.resize((224,224))\n",
    "        img_array = np.array(im)\n",
    "\n",
    "        #Our keras model used a 4D tensor, (images x height x width x channel)\n",
    "        #So changing dimension 128x128x3 into 1x128x128x3 \n",
    "        img_array = np.expand_dims(img_array, axis=0)\n",
    "        image_array = np.asarray(img_array)\n",
    "\n",
    "        # Normalize the image\n",
    "        normalized_image_array = (image_array.astype(np.float32) / 127.0) - 1\n",
    "\n",
    "        # Load the image into the array\n",
    "        data[0] = normalized_image_array\n",
    "\n",
    "        # run the inference\n",
    "        prediction = model.predict(data)\n",
    "        font = cv2.FONT_HERSHEY_SIMPLEX\n",
    "        if np.argmax(prediction) > 0.7:\n",
    "            cv2.putText(frame,labels[np.argmax(prediction)],(50, 50),font, 1,(0, 255, 255),2,cv2.LINE_4) \n",
    "  \n",
    "        #print(labels[np.argmax(prediction)])\n",
    "   \n",
    "\n",
    "        cv2.imshow(\"Capturing\", frame)\n",
    "        key=cv2.waitKey(1)\n",
    "        if key == ord('q'):\n",
    "                break\n",
    "video.release()\n",
    "cv2.destroyAllWindows()"
   ]
  },
  {
   "cell_type": "code",
   "execution_count": 34,
   "metadata": {},
   "outputs": [
    {
     "name": "stdout",
     "output_type": "stream",
     "text": [
      "WARNING:tensorflow:No training configuration found in save file: the model was *not* compiled. Compile it manually.\n",
      "[[0.00001857 0.9999801  0.00000137]]\n"
     ]
    }
   ],
   "source": [
    "import tensorflow.keras\n",
    "from PIL import Image, ImageOps\n",
    "import numpy as np\n",
    "\n",
    "# Disable scientific notation for clarity\n",
    "np.set_printoptions(suppress=True)\n",
    "\n",
    "# Load the model\n",
    "model = tensorflow.keras.models.load_model('0keras_model.h5')\n",
    "\n",
    "# Create the array of the right shape to feed into the keras model\n",
    "# The 'length' or number of images you can put into the array is\n",
    "# determined by the first position in the shape tuple, in this case 1.\n",
    "data = np.ndarray(shape=(1, 224, 224, 3), dtype=np.float32)\n",
    "\n",
    "# Replace this with the path to your image\n",
    "image = Image.open('./Data/Fire_Truck_ (20).jpg')\n",
    "\n",
    "#resize the image to a 224x224 with the same strategy as in TM2:\n",
    "#resizing the image to be at least 224x224 and then cropping from the center\n",
    "size = (224, 224)\n",
    "image = ImageOps.fit(image, size, Image.ANTIALIAS)\n",
    "\n",
    "#turn the image into a numpy array\n",
    "image_array = np.asarray(image)\n",
    "\n",
    "# display the resized image\n",
    "#image.show()\n",
    "\n",
    "# Normalize the image\n",
    "normalized_image_array = (image_array.astype(np.float32) / 127.0) - 1\n",
    "\n",
    "# Load the image into the array\n",
    "data[0] = normalized_image_array\n",
    "\n",
    "# run the inference\n",
    "prediction = model.predict(data)\n",
    "print(prediction)\n"
   ]
  },
  {
   "cell_type": "code",
   "execution_count": 3,
   "metadata": {},
   "outputs": [
    {
     "data": {
      "text/plain": [
       "'2.0.0'"
      ]
     },
     "execution_count": 3,
     "metadata": {},
     "output_type": "execute_result"
    }
   ],
   "source": [
    "tensorflow.__version__"
   ]
  },
  {
   "cell_type": "code",
   "execution_count": null,
   "metadata": {},
   "outputs": [],
   "source": [
    "import tensorflow.keras\n",
    "from PIL import Image, ImageOps\n",
    "import numpy as np\n",
    "\n",
    "# Disable scientific notation for clarity\n",
    "np.set_printoptions(suppress=True)\n",
    "\n",
    "# Load the model\n",
    "model = tensorflow.keras.models.load_model('keras_model.h5')\n",
    "\n",
    "# Create the array of the right shape to feed into the keras model\n",
    "# The 'length' or number of images you can put into the array is\n",
    "# determined by the first position in the shape tuple, in this case 1.\n",
    "data = np.ndarray(shape=(1, 224, 224, 3), dtype=np.float32)\n",
    "\n",
    "# Replace this with the path to your image\n",
    "image = Image.open('test_photo.jpg')\n",
    "\n",
    "#resize the image to a 224x224 with the same strategy as in TM2:\n",
    "#resizing the image to be at least 224x224 and then cropping from the center\n",
    "size = (224, 224)\n",
    "image = ImageOps.fit(image, size, Image.ANTIALIAS)\n",
    "\n",
    "#turn the image into a numpy array\n",
    "image_array = np.asarray(image)\n",
    "\n",
    "# display the resized image\n",
    "image.show()\n",
    "\n",
    "# Normalize the image\n",
    "normalized_image_array = (image_array.astype(np.float32) / 127.0) - 1\n",
    "\n",
    "# Load the image into the array\n",
    "data[0] = normalized_image_array\n",
    "\n",
    "# run the inference\n",
    "prediction = model.predict(data)\n",
    "print(prediction)\n"
   ]
  }
 ],
 "metadata": {
  "kernelspec": {
   "display_name": "Python 3",
   "language": "python",
   "name": "python3"
  },
  "language_info": {
   "codemirror_mode": {
    "name": "ipython",
    "version": 3
   },
   "file_extension": ".py",
   "mimetype": "text/x-python",
   "name": "python",
   "nbconvert_exporter": "python",
   "pygments_lexer": "ipython3",
   "version": "3.7.3"
  }
 },
 "nbformat": 4,
 "nbformat_minor": 2
}
